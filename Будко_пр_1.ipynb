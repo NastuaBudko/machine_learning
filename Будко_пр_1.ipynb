{
  "nbformat": 4,
  "nbformat_minor": 0,
  "metadata": {
    "colab": {
      "provenance": [],
      "include_colab_link": true
    },
    "kernelspec": {
      "name": "python3",
      "display_name": "Python 3"
    },
    "language_info": {
      "name": "python"
    }
  },
  "cells": [
    {
      "cell_type": "markdown",
      "metadata": {
        "id": "view-in-github",
        "colab_type": "text"
      },
      "source": [
        "<a href=\"https://colab.research.google.com/github/NastuaBudko/machine_learning/blob/main/%D0%91%D1%83%D0%B4%D0%BA%D0%BE_%D0%BF%D1%80_1.ipynb\" target=\"_parent\"><img src=\"https://colab.research.google.com/assets/colab-badge.svg\" alt=\"Open In Colab\"/></a>"
      ]
    },
    {
      "cell_type": "markdown",
      "source": [
        "Будко А.С. ФІТ 4-8\n",
        "Варіант 2(4)"
      ],
      "metadata": {
        "id": "xPnTLTKTqhRj"
      }
    },
    {
      "cell_type": "markdown",
      "source": [
        "Завдання 1: Створіть одновимірний масив (вектор) з першими 20-ма натуральними числами та\n",
        "виведіть його значення.\n"
      ],
      "metadata": {
        "id": "IbuLg6RWqysR"
      }
    },
    {
      "cell_type": "code",
      "source": [
        "import numpy as np\n",
        "\n",
        "vector = np.arange(1, 21)\n",
        "print(vector)"
      ],
      "metadata": {
        "colab": {
          "base_uri": "https://localhost:8080/"
        },
        "id": "H3JKxHIBquwg",
        "outputId": "5a2728a4-07cb-478f-d6fe-1e43e9a54f5b"
      },
      "execution_count": 2,
      "outputs": [
        {
          "output_type": "stream",
          "name": "stdout",
          "text": [
            "[ 1  2  3  4  5  6  7  8  9 10 11 12 13 14 15 16 17 18 19 20]\n"
          ]
        }
      ]
    },
    {
      "cell_type": "markdown",
      "source": [
        "Завдання 2: Створіть двовимірний масив (матрицю) розміром 3x3, заповніть його випадковими\n",
        "натуральними числами та виведіть його значення.\n"
      ],
      "metadata": {
        "id": "xZLhtHJDs38e"
      }
    },
    {
      "cell_type": "code",
      "source": [
        "matrix = np.random.randint(1, 101, size=(3, 3))\n",
        "print(matrix)"
      ],
      "metadata": {
        "colab": {
          "base_uri": "https://localhost:8080/"
        },
        "id": "28DA5tkEs4nv",
        "outputId": "790e4518-6ce9-4656-dbb3-688c0b17c35d"
      },
      "execution_count": 3,
      "outputs": [
        {
          "output_type": "stream",
          "name": "stdout",
          "text": [
            "[[25 90 12]\n",
            " [24 81 25]\n",
            " [24 22 39]]\n"
          ]
        }
      ]
    },
    {
      "cell_type": "markdown",
      "source": [
        "Завдання 3: Створіть масив розміром 5x5, заповніть його випадковими дійсними числами в\n",
        "діапазоні від -1 до 1 та виведіть його значення.\n"
      ],
      "metadata": {
        "id": "cZfgE94NtJ4M"
      }
    },
    {
      "cell_type": "code",
      "source": [
        "matrix = np.random.uniform(-1, 1, size=(5, 5))\n",
        "print(matrix)"
      ],
      "metadata": {
        "colab": {
          "base_uri": "https://localhost:8080/"
        },
        "id": "1yashGjOtmqG",
        "outputId": "f93a5073-331e-4941-c1fc-ae7035f7222f"
      },
      "execution_count": 4,
      "outputs": [
        {
          "output_type": "stream",
          "name": "stdout",
          "text": [
            "[[-0.93740147 -0.99039477 -0.14013727 -0.25422028  0.44878802]\n",
            " [ 0.42869095 -0.73043109 -0.75010677  0.24147894 -0.72914853]\n",
            " [ 0.85268325 -0.50682448 -0.9244906   0.73947389  0.45140125]\n",
            " [-0.46948737 -0.48204161  0.21092191 -0.32649594  0.66834576]\n",
            " [ 0.23314144  0.35230981 -0.61808891  0.4698449  -0.61935686]]\n"
          ]
        }
      ]
    },
    {
      "cell_type": "markdown",
      "source": [
        "Завдання 4: Створіть масив розміром 5x5, заповніть його випадковими дійсними числами в\n",
        "діапазоні від 0 до 1 та знайдіть середнє значення елементів."
      ],
      "metadata": {
        "id": "qs5lDZHDtnB_"
      }
    },
    {
      "cell_type": "code",
      "source": [
        "matrix = np.random.uniform(0, 1, size=(5, 5))\n",
        "\n",
        "average_value = np.mean(matrix)\n",
        "\n",
        "print(\"Matrix:\")\n",
        "print(matrix)\n",
        "print(\"Average:\")\n",
        "print(average_value)"
      ],
      "metadata": {
        "colab": {
          "base_uri": "https://localhost:8080/"
        },
        "id": "VVMQiFbXttG6",
        "outputId": "3efc5fa0-0602-44f3-df04-78ca12cd3b93"
      },
      "execution_count": 5,
      "outputs": [
        {
          "output_type": "stream",
          "name": "stdout",
          "text": [
            "Matrix:\n",
            "[[0.19785162 0.73738862 0.57230065 0.94762216 0.65922663]\n",
            " [0.70356761 0.1116128  0.94831517 0.09828395 0.69451056]\n",
            " [0.82474818 0.32114804 0.98558678 0.52503458 0.59220275]\n",
            " [0.13218592 0.65895303 0.11400811 0.15684631 0.55684334]\n",
            " [0.88926746 0.42213535 0.66732914 0.41622001 0.22827226]]\n",
            "Average:\n",
            "0.5264584414076934\n"
          ]
        }
      ]
    },
    {
      "cell_type": "markdown",
      "source": [
        "Завдання 5: Створіть два одновимірних масиви розміром 5, заповніть їх випадковими цілими\n",
        "числами в діапазоні від -10 до 10 та виконайте на них поелементні операції додавання,\n",
        "віднімання та множення.\n"
      ],
      "metadata": {
        "id": "R07emTVdttWD"
      }
    },
    {
      "cell_type": "code",
      "source": [
        "array1 = np.random.randint(-10, 11, size=5)\n",
        "array2 = np.random.randint(-10, 11, size=5)\n",
        "\n",
        "addition = array1 + array2\n",
        "subtraction = array1 - array2\n",
        "multiplication = array1 * array2\n",
        "\n",
        "print(\"Array1:\")\n",
        "print(array1)\n",
        "print(\"Array1:\")\n",
        "print(array2)\n",
        "print(\"Addition:\")\n",
        "print(addition)\n",
        "print(\"Subtraction:\")\n",
        "print(subtraction)\n",
        "print(\"Multiplication:\")\n",
        "print(multiplication)"
      ],
      "metadata": {
        "colab": {
          "base_uri": "https://localhost:8080/"
        },
        "id": "R2BHxwmJt1r1",
        "outputId": "57ddf7d4-7123-4487-ecbf-275de45e8696"
      },
      "execution_count": 6,
      "outputs": [
        {
          "output_type": "stream",
          "name": "stdout",
          "text": [
            "Array1:\n",
            "[ 1 -6 -1  9  8]\n",
            "Array1:\n",
            "[ 5  6 10  9 -6]\n",
            "Addition:\n",
            "[ 6  0  9 18  2]\n",
            "Subtraction:\n",
            "[ -4 -12 -11   0  14]\n",
            "Multiplication:\n",
            "[  5 -36 -10  81 -48]\n"
          ]
        }
      ]
    },
    {
      "cell_type": "markdown",
      "source": [
        "Завдання 6: Створіть дві матриці 2x2, заповніть їх довільними дійсними числами від 3 до 10 та\n",
        "знайдіть їх добуток."
      ],
      "metadata": {
        "id": "L5okK59ft2CH"
      }
    },
    {
      "cell_type": "code",
      "source": [
        "\n",
        "matrix1 = np.random.uniform(3, 10, size=(2, 2))\n",
        "matrix2 = np.random.uniform(3, 10, size=(2, 2))\n",
        "product = np.dot(matrix1, matrix2)\n",
        "\n",
        "print(\"Matrix1:\")\n",
        "print(matrix1)\n",
        "print(\"Matrix2:\")\n",
        "print(matrix2)\n",
        "print(\"Product:\")\n",
        "print(product)"
      ],
      "metadata": {
        "colab": {
          "base_uri": "https://localhost:8080/"
        },
        "id": "Lu1gJPIht7Vg",
        "outputId": "c8ffd5b8-d715-444a-e8a6-d8b253651595"
      },
      "execution_count": 7,
      "outputs": [
        {
          "output_type": "stream",
          "name": "stdout",
          "text": [
            "Matrix1:\n",
            "[[5.50519474 9.04350062]\n",
            " [4.71585097 3.50460787]]\n",
            "Matrix2:\n",
            "[[8.40210893 6.49239426]\n",
            " [6.9052684  9.12120501]]\n",
            "Product:\n",
            "[[108.70304494 118.22951792]\n",
            " [ 63.82335153  62.58341065]]\n"
          ]
        }
      ]
    },
    {
      "cell_type": "markdown",
      "source": [
        "Завдання 7: Створіть дві матриці розміром 2x3 та 3x2, заповніть їх випадковими цілими числами\n",
        "в діапазоні від 1 до 5 та перемножте їх між собою.\n"
      ],
      "metadata": {
        "id": "clt5hI91t7mr"
      }
    },
    {
      "cell_type": "code",
      "source": [
        "matrix1 = np.random.randint(1, 6, size=(2, 3))\n",
        "matrix2 = np.random.randint(1, 6, size=(3, 2))\n",
        "product = np.dot(matrix1, matrix2)\n",
        "\n",
        "print(\"Matrix1:\")\n",
        "print(matrix1)\n",
        "print(\"Matrix1:\")\n",
        "print(matrix2)\n",
        "print(\"Product:\")\n",
        "print(product)"
      ],
      "metadata": {
        "colab": {
          "base_uri": "https://localhost:8080/"
        },
        "id": "GjcvN74juCUD",
        "outputId": "30116be8-40c5-4927-a00a-dc9f9ce1c8a8"
      },
      "execution_count": 8,
      "outputs": [
        {
          "output_type": "stream",
          "name": "stdout",
          "text": [
            "Matrix1:\n",
            "[[5 3 3]\n",
            " [2 4 4]]\n",
            "Matrix1:\n",
            "[[5 5]\n",
            " [3 2]\n",
            " [1 5]]\n",
            "Product:\n",
            "[[37 46]\n",
            " [26 38]]\n"
          ]
        }
      ]
    },
    {
      "cell_type": "markdown",
      "source": [
        "Завдання 8: Створіть матрицю розміром 3x3, заповніть її випадковими цілими числами в діапазоні\n",
        "від 1 до 12 та знайдіть її обернену матрицю.\n"
      ],
      "metadata": {
        "id": "UQwpnfBLuCz2"
      }
    },
    {
      "cell_type": "code",
      "source": [
        "matrix = np.random.randint(1, 13, size=(3, 3))\n",
        "\n",
        "print(matrix)\n",
        "\n",
        "det = np.linalg.det(matrix)\n",
        "if det == 0:\n",
        "    print(\"Inverse matrix does not exist.\")\n",
        "else:\n",
        "    inverse_matrix = np.linalg.inv(matrix)\n",
        "\n",
        "    print(\"Inverse matrix:\")\n",
        "    print(inverse_matrix)"
      ],
      "metadata": {
        "colab": {
          "base_uri": "https://localhost:8080/"
        },
        "id": "5poB_Qx7uK51",
        "outputId": "df6314c1-517f-4c17-d512-08d02352357d"
      },
      "execution_count": 9,
      "outputs": [
        {
          "output_type": "stream",
          "name": "stdout",
          "text": [
            "[[ 3  9  7]\n",
            " [ 8  6  9]\n",
            " [12  8  9]]\n",
            "Inverse matrix:\n",
            "[[-0.08411215 -0.11682243  0.18224299]\n",
            " [ 0.1682243  -0.26635514  0.13551402]\n",
            " [-0.03738318  0.39252336 -0.25233645]]\n"
          ]
        }
      ]
    },
    {
      "cell_type": "markdown",
      "source": [
        "Завдання 9: Створіть матрицю розміром 4x4, заповніть її випадковими дійсними числами в\n",
        "діапазоні від -8 до 8 та транспонуйте її."
      ],
      "metadata": {
        "id": "7Xmci71huLN6"
      }
    },
    {
      "cell_type": "code",
      "source": [
        "matrix = np.random.uniform(-8, 8, size=(4, 4))\n",
        "transposed_matrix = matrix.T\n",
        "\n",
        "print(matrix)\n",
        "print(\"Transposed matrix:\")\n",
        "print(transposed_matrix)"
      ],
      "metadata": {
        "colab": {
          "base_uri": "https://localhost:8080/"
        },
        "id": "UuK8bKoQuTBG",
        "outputId": "e46a561b-a0a9-46f3-80cf-7bfbe9ca057f"
      },
      "execution_count": 10,
      "outputs": [
        {
          "output_type": "stream",
          "name": "stdout",
          "text": [
            "[[-0.94191468  0.10293895  5.82021878 -0.04629632]\n",
            " [ 0.57670094  4.63274859 -2.25293395 -1.91920103]\n",
            " [ 0.42352553  1.0406763  -6.95641504 -1.58543464]\n",
            " [ 0.36698006  4.86564344  6.37119102 -3.9301114 ]]\n",
            "Transposed matrix:\n",
            "[[-0.94191468  0.57670094  0.42352553  0.36698006]\n",
            " [ 0.10293895  4.63274859  1.0406763   4.86564344]\n",
            " [ 5.82021878 -2.25293395 -6.95641504  6.37119102]\n",
            " [-0.04629632 -1.91920103 -1.58543464 -3.9301114 ]]\n"
          ]
        }
      ]
    },
    {
      "cell_type": "markdown",
      "source": [
        "Завдання 10: Створіть матрицю розміром 3x4 та вектор розміром 4 x1, заповніть їх випадковими\n",
        "цілими числами в діапазоні від 1 до 10 та знайдіть середнє значення елементів матриці."
      ],
      "metadata": {
        "id": "diB2hlo0uTRr"
      }
    },
    {
      "cell_type": "code",
      "source": [
        "matrix = np.random.randint(1, 11, size=(3, 4))\n",
        "vector = np.random.randint(1, 11, size=(4, 1))\n",
        "average_value = np.mean(matrix)\n",
        "\n",
        "print(\"Matrix:\")\n",
        "print(matrix)\n",
        "print(\"Vector:\")\n",
        "print(vector)\n",
        "print(\"Average value:\")\n",
        "print(average_value)"
      ],
      "metadata": {
        "colab": {
          "base_uri": "https://localhost:8080/"
        },
        "id": "ymHzOzyCucQl",
        "outputId": "f05f23d6-b40e-4776-e400-22e8641ac452"
      },
      "execution_count": 11,
      "outputs": [
        {
          "output_type": "stream",
          "name": "stdout",
          "text": [
            "Matrix:\n",
            "[[ 5  7  6  2]\n",
            " [ 8 10  9  3]\n",
            " [ 4  1  9  5]]\n",
            "Vector:\n",
            "[[6]\n",
            " [3]\n",
            " [3]\n",
            " [8]]\n",
            "Average value:\n",
            "5.75\n"
          ]
        }
      ]
    },
    {
      "cell_type": "markdown",
      "source": [
        "Завдання 11: Створіть матрицю розміром 2x3 та вектор розміром 3x1, заповніть матрицю\n",
        "випадковими цілими числами в діапазоні від 1 до 10, а вектор - випадковими дійсними\n",
        "числами від 0 до 1, і знайдіть добуток матриці на вектор.\n"
      ],
      "metadata": {
        "id": "sKN7gPPwuchq"
      }
    },
    {
      "cell_type": "code",
      "source": [
        "matrix = np.random.randint(1, 11, size=(2, 3))\n",
        "vector = np.random.uniform(0, 1, size=(3, 1))\n",
        "product = np.dot(matrix, vector)\n",
        "\n",
        "print(\"Matrix:\")\n",
        "print(matrix)\n",
        "print(\"Vector:\")\n",
        "print(vector)\n",
        "print(\"Product:\")\n",
        "print(product)"
      ],
      "metadata": {
        "colab": {
          "base_uri": "https://localhost:8080/"
        },
        "id": "Dp7dlhv2ulwL",
        "outputId": "fcaad851-7a5f-4410-dd42-cf0be44843ba"
      },
      "execution_count": 12,
      "outputs": [
        {
          "output_type": "stream",
          "name": "stdout",
          "text": [
            "Matrix:\n",
            "[[ 2  3  9]\n",
            " [10  7  8]]\n",
            "Vector:\n",
            "[[0.11856155]\n",
            " [0.74359591]\n",
            " [0.6632106 ]]\n",
            "Product:\n",
            "[[ 8.43680629]\n",
            " [11.69647175]]\n"
          ]
        }
      ]
    },
    {
      "cell_type": "markdown",
      "source": [
        "Завдання 12: Створіть дві матриці розміром 3x3, заповніть їх випадковими цілими числами в\n",
        "діапазоні від 1 до 10 та знайдіть їхню різницю.\n"
      ],
      "metadata": {
        "id": "aJ71KR8EumEC"
      }
    },
    {
      "cell_type": "code",
      "source": [
        "matrix1 = np.random.randint(1, 11, size=(3, 3))\n",
        "matrix2 = np.random.randint(1, 11, size=(3, 3))\n",
        "difference = matrix1 - matrix2\n",
        "\n",
        "print(\"Matrix1:\")\n",
        "print(matrix1)\n",
        "print(\"Matrix2:\")\n",
        "print(matrix2)\n",
        "print(\"Difference:\")\n",
        "print(difference)"
      ],
      "metadata": {
        "colab": {
          "base_uri": "https://localhost:8080/"
        },
        "id": "FCrYB5ZPutnp",
        "outputId": "a1917d8c-2538-446b-c6e1-7606ea04bfa4"
      },
      "execution_count": 13,
      "outputs": [
        {
          "output_type": "stream",
          "name": "stdout",
          "text": [
            "Matrix1:\n",
            "[[ 5  4  7]\n",
            " [10  2  7]\n",
            " [ 8  7  1]]\n",
            "Matrix2:\n",
            "[[ 7  6  6]\n",
            " [ 1  9 10]\n",
            " [ 7  3  3]]\n",
            "Difference:\n",
            "[[-2 -2  1]\n",
            " [ 9 -7 -3]\n",
            " [ 1  4 -2]]\n"
          ]
        }
      ]
    },
    {
      "cell_type": "markdown",
      "source": [
        "Завдання 13: Створіть дві матриці розміром 3x3, заповніть їх випадковими цілими числами в\n",
        "діапазоні від -5 до 5 та знайдіть їх добуток."
      ],
      "metadata": {
        "id": "PfxtG8Knut3d"
      }
    },
    {
      "cell_type": "code",
      "source": [
        "matrix1 = np.random.randint(-5, 6, size=(3, 3))\n",
        "matrix2 = np.random.randint(-5, 6, size=(3, 3))\n",
        "product = np.dot(matrix1, matrix2)\n",
        "\n",
        "print(\"Matrix1:\")\n",
        "print(matrix1)\n",
        "print(\"Matrix2:\")\n",
        "print(matrix2)\n",
        "print(\"Product:\")\n",
        "print(product)"
      ],
      "metadata": {
        "colab": {
          "base_uri": "https://localhost:8080/"
        },
        "id": "8gj9bcx8u27R",
        "outputId": "acf20460-cbb7-474f-e190-97b193298b42"
      },
      "execution_count": 14,
      "outputs": [
        {
          "output_type": "stream",
          "name": "stdout",
          "text": [
            "Matrix1:\n",
            "[[ 2  4  0]\n",
            " [ 3  5  4]\n",
            " [-3 -1 -1]]\n",
            "Matrix2:\n",
            "[[ 1 -5  0]\n",
            " [ 3  4  3]\n",
            " [ 1  1  4]]\n",
            "Product:\n",
            "[[14  6 12]\n",
            " [22  9 31]\n",
            " [-7 10 -7]]\n"
          ]
        }
      ]
    },
    {
      "cell_type": "markdown",
      "source": [
        "Завдання 14: Створіть матрицю розміром 3x3, заповніть її випадковими цілими числами в діапазоні\n",
        "від -5 до 5 та знайдіть суму елементів матриці."
      ],
      "metadata": {
        "id": "l__HeL5Su3Qq"
      }
    },
    {
      "cell_type": "code",
      "source": [
        "matrix = np.random.randint(-5, 6, size=(3, 3))\n",
        "sum_of_elements = np.sum(matrix)\n",
        "\n",
        "print(matrix)\n",
        "print(\"Sum:\")\n",
        "print(sum_of_elements)"
      ],
      "metadata": {
        "colab": {
          "base_uri": "https://localhost:8080/"
        },
        "id": "Fxfn1Goou6MY",
        "outputId": "71b31c58-ce36-4192-ba63-c91d2618fca2"
      },
      "execution_count": 15,
      "outputs": [
        {
          "output_type": "stream",
          "name": "stdout",
          "text": [
            "[[ 5 -4  1]\n",
            " [-2  3  3]\n",
            " [-5 -1  4]]\n",
            "Sum:\n",
            "4\n"
          ]
        }
      ]
    },
    {
      "cell_type": "markdown",
      "source": [
        "Завдання 15: Створіть матрицю розміром 4x4, заповніть її випадковими дійсними числами в\n",
        "діапазоні від 0 до 1 та знайдіть вектор-стовпчик, що містить добуток елементів\n",
        "кожного рядка матриці."
      ],
      "metadata": {
        "id": "MT78Ynp1u6ag"
      }
    },
    {
      "cell_type": "code",
      "source": [
        "matrix = np.random.uniform(0, 1, size=(4, 4))\n",
        "row_products = np.prod(matrix, axis=1)\n",
        "column_vector = row_products.reshape(-1, 1)\n",
        "\n",
        "print(matrix)\n",
        "print(\"Column vector:\")\n",
        "print(column_vector)"
      ],
      "metadata": {
        "colab": {
          "base_uri": "https://localhost:8080/"
        },
        "id": "ef63VB3MvM72",
        "outputId": "45c96353-7b1e-4222-8e54-de1c7e36069c"
      },
      "execution_count": 16,
      "outputs": [
        {
          "output_type": "stream",
          "name": "stdout",
          "text": [
            "[[0.70383205 0.22315555 0.79679289 0.06424258]\n",
            " [0.63871895 0.9197492  0.4723665  0.58183168]\n",
            " [0.52839097 0.48517857 0.67673293 0.64552039]\n",
            " [0.38378485 0.41776998 0.21542674 0.04653209]]\n",
            "Column vector:\n",
            "[[0.0080398 ]\n",
            " [0.16145655]\n",
            " [0.1119913 ]\n",
            " [0.00160723]]\n"
          ]
        }
      ]
    },
    {
      "cell_type": "markdown",
      "source": [
        "*Висновок*: Навчилась працювати з python та google colab"
      ],
      "metadata": {
        "id": "qVwN8BIaezUK"
      }
    }
  ]
}